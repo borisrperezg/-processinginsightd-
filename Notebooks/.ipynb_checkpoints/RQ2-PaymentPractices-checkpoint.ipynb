{
 "cells": [
  {
   "cell_type": "code",
   "execution_count": 1,
   "metadata": {},
   "outputs": [],
   "source": [
    "import pandas as pd\n",
    "import matplotlib.pyplot as plt\n",
    "\n",
    "pd.set_option('display.max_rows', 500)"
   ]
  },
  {
   "cell_type": "code",
   "execution_count": 2,
   "metadata": {},
   "outputs": [],
   "source": [
    "df = pd.read_excel (r'../../../../eclipse-workspace/processinginsightd_datasource/InsighTD-Respuestas(BR-CH-CO-US).xlsx')"
   ]
  },
  {
   "cell_type": "code",
   "execution_count": 3,
   "metadata": {},
   "outputs": [
    {
     "data": {
      "text/plain": [
       "432"
      ]
     },
     "execution_count": 3,
     "metadata": {},
     "output_type": "execute_result"
    }
   ],
   "source": [
    "df.shape[0]"
   ]
  },
  {
   "cell_type": "code",
   "execution_count": 4,
   "metadata": {},
   "outputs": [],
   "source": [
    "df.rename(columns={ df.columns[0]: \"Q1Size\" }, inplace = True)\n",
    "df.rename(columns={ df.columns[1]: \"Q2Country\" }, inplace = True)\n",
    "df.rename(columns={ df.columns[2]: \"Q3LOC\" }, inplace = True)\n",
    "df.rename(columns={ df.columns[3]: \"Q4NumberPeople\" }, inplace = True)\n",
    "df.rename(columns={ df.columns[4]: \"Q5Age\" }, inplace = True)\n",
    "df.rename(columns={ df.columns[5]: \"Q6Role\" }, inplace = True)\n",
    "df.rename(columns={ df.columns[6]: \"CodeRole\" }, inplace = True)\n",
    "df.rename(columns={ df.columns[7]: \"Q7Experience\" }, inplace = True)\n",
    "df.rename(columns={ df.columns[8]: \"Q8DevProcess\" }, inplace = True)\n",
    "df.rename(columns={ df.columns[9]: \"Q13Example\" }, inplace = True)\n",
    "df.rename(columns={ df.columns[10]: \"ExampleTDType\" }, inplace = True)\n",
    "df.rename(columns={ df.columns[11]: \"Q15ExampleRepresentative\" }, inplace = True)\n",
    "df.rename(columns={ df.columns[12]: \"CodeCauses\" }, inplace = True)\n",
    "df.rename(columns={ df.columns[13]: \"Q24WasDebtMonitored\" }, inplace = True)\n",
    "df.rename(columns={ df.columns[14]: \"Q25HowMonitored\" }, inplace = True)\n",
    "df.rename(columns={ df.columns[15]: \"CodeMonitored\" }, inplace = True)\n",
    "df.rename(columns={ df.columns[16]: \"Q26WasDebtPaidOff\" }, inplace = True)\n",
    "df.rename(columns={ df.columns[17]: \"Q27HowPaidOff\" }, inplace = True)\n",
    "df.rename(columns={ df.columns[18]: \"CodePayOff\" }, inplace = True)\n",
    "df.rename(columns={ df.columns[19]: \"FinalRepayCode\" }, inplace = True)\n",
    "df.rename(columns={ df.columns[20]: \"Q28HowPrevent\" }, inplace = True)\n",
    "df.rename(columns={ df.columns[21]: \"CodePrevent\" }, inplace = True)"
   ]
  },
  {
   "cell_type": "markdown",
   "metadata": {},
   "source": [
    "## REPLACING VALUES OF THE ROWS"
   ]
  },
  {
   "cell_type": "code",
   "execution_count": 5,
   "metadata": {},
   "outputs": [],
   "source": [
    "df['Q1Size'].replace(['1-10 empleados', '1-10 funcionários'], '1-10 employees', inplace=True)\n",
    "df['Q1Size'].replace(['11-50 empleados', '11-50 funcionários'], '11-50 employees', inplace=True)\n",
    "df['Q1Size'].replace(['51-250 empleados', '51-250 funcionários'], '51-250 employees', inplace=True)\n",
    "df['Q1Size'].replace(['251-500 empleados', '251-500 funcionários'], '251-500 employees', inplace=True)\n",
    "df['Q1Size'].replace(['501-1000 empleados', '501-1000 funcionários'], '501-1000 employees', inplace=True)\n",
    "df['Q1Size'].replace(['1001-2000 empleados', '1001-2000 funcionários'], '1001-2000 employees', inplace=True)\n",
    "df['Q1Size'].replace(['mas de 2000 empleados', 'mais que 2000 funcionários'], 'more than 2000 employees', inplace=True)"
   ]
  },
  {
   "cell_type": "code",
   "execution_count": 6,
   "metadata": {},
   "outputs": [],
   "source": [
    "df['Q4NumberPeople'].replace(['Menos de 5 personas', 'Menos que 5 pessoas'], 'Less than 5 people', inplace=True)\n",
    "df['Q4NumberPeople'].replace(['5-9 personas', '5-9 pessoas'], '5-9 people', inplace=True)\n",
    "df['Q4NumberPeople'].replace(['10-20 personas', '10-20 pessoas'], '10-20 people', inplace=True)\n",
    "df['Q4NumberPeople'].replace(['21-30 personas', '21-30 pessoas'], '21-30 people', inplace=True)\n",
    "df['Q4NumberPeople'].replace(['Más de 30 personas', 'Mais que 30 pessoas'], 'More than 30 people', inplace=True)"
   ]
  },
  {
   "cell_type": "code",
   "execution_count": 7,
   "metadata": {},
   "outputs": [],
   "source": [
    "df['Q5Age'].replace(['Menos de 1 año', 'Menos que 1 ano'], 'Less than 1 year', inplace=True)\n",
    "df['Q5Age'].replace(['1-2 años', '1-2 anos'], '1-2 years', inplace=True)\n",
    "df['Q5Age'].replace(['2-5 años', '2-5 anos'], '2-5 years', inplace=True)\n",
    "df['Q5Age'].replace(['5-10 años', '5-10 anos'], '5-10 years', inplace=True)\n",
    "df['Q5Age'].replace(['Más de 10 años', 'Mais que 10 anos'], 'More than 10 years', inplace=True)"
   ]
  },
  {
   "cell_type": "code",
   "execution_count": 8,
   "metadata": {},
   "outputs": [],
   "source": [
    "df['Q7Experience'].replace(['Competente (Buen conocimiento laboral y de fondo del área de práctica)', 'Competente'], 'Competent', inplace=True)\n",
    "df['Q7Experience'].replace(['Proficiente (Profundo entendimiento de la disciplina y del área de práctica)', 'Proficiente'], 'Proficient', inplace=True)\n",
    "df['Q7Experience'].replace(['Experto (Conocimiento autoritativo de la disciplina y un entendimiento profundo al rededor del área de práctica)', 'Especialista'], 'Expert', inplace=True)\n",
    "df['Q7Experience'].replace(['Principiante (Conocimiento laboral de los aspectos claves del área de práctica)', 'Iniciante'], 'Beginner', inplace=True)\n",
    "df['Q7Experience'].replace(['Novato (Conocimiento mínimo o teórico sin conectarlo a la práctica)', 'Novato'], 'Novice', inplace=True)"
   ]
  },
  {
   "cell_type": "code",
   "execution_count": 9,
   "metadata": {},
   "outputs": [],
   "source": [
    "df['Q8DevProcess'].replace(['Híbrido (es la combinación de métodos ágiles con otras técnicas no ágiles. Por ejemplo, un esfuerzo para detallar requisitos, seguido de sprints de entrega incremental)', 'Híbrido'], 'Hybrid', inplace=True)\n",
    "df['Q8DevProcess'].replace(['Ágil (un proceso ligero que promueve el desarrollo iterativo, la estrecha colaboración entre el equipo de desarrollo y el negocio, la comunicación constante y los equipos muy cohesionados).', 'Ágil'], 'Agile', inplace=True)\n",
    "df['Q8DevProcess'].replace(['Tradicional (métodos convencionales de desarrollo de software basados en documentos que pueden caracterizarse como planificación extensiva, estandarización de las etapas de desarrollo, comunicación formalizada, documentación significativa y diseño de up-front).', 'Tradicional'], 'Traditional', inplace=True)"
   ]
  },
  {
   "cell_type": "code",
   "execution_count": 10,
   "metadata": {},
   "outputs": [],
   "source": [
    "df['Q26WasDebtPaidOff'].replace(['Sí', 'Sim'], 'Yes', inplace=True)"
   ]
  },
  {
   "cell_type": "markdown",
   "metadata": {},
   "source": [
    "## TRANSFORMING EVERYTHING TO UPPERCASE"
   ]
  },
  {
   "cell_type": "code",
   "execution_count": 11,
   "metadata": {},
   "outputs": [],
   "source": [
    "df['CodeCauses'] = df['CodeCauses'].str.strip()\n",
    "df['CodeCauses'] = df['CodeCauses'].str.upper() \n",
    "\n",
    "df['Q1Size'] = df['Q1Size'].str.strip()\n",
    "df['Q1Size'] = df['Q1Size'].str.upper() \n",
    "\n",
    "df['Q2Country'] = df['Q2Country'].str.strip()\n",
    "df['Q2Country'] = df['Q2Country'].str.upper()\n",
    "\n",
    "df['Q4NumberPeople'] = df['Q4NumberPeople'].str.strip()\n",
    "df['Q4NumberPeople'] = df['Q4NumberPeople'].str.upper()\n",
    "\n",
    "df['Q5Age'] = df['Q5Age'].str.strip()\n",
    "df['Q5Age'] = df['Q5Age'].str.upper()\n",
    "\n",
    "df['CodeRole'] = df['CodeRole'].str.strip()\n",
    "df['CodeRole'] = df['CodeRole'].str.upper()\n",
    "\n",
    "df['FinalRepayCode'] = df['FinalRepayCode'].str.strip()\n",
    "df['FinalRepayCode'] = df['FinalRepayCode'].str.upper()\n",
    "\n",
    "df['Q26WasDebtPaidOff'] = df['Q26WasDebtPaidOff'].str.strip()\n",
    "df['Q26WasDebtPaidOff'] = df['Q26WasDebtPaidOff'].str.upper()\n",
    "\n",
    "df['Q8DevProcess'] = df['Q8DevProcess'].str.strip()\n",
    "df['Q8DevProcess'] = df['Q8DevProcess'].str.upper()\n",
    "\n",
    "df = df[df.FinalRepayCode != '-']"
   ]
  },
  {
   "cell_type": "markdown",
   "metadata": {},
   "source": [
    "## GETTING LIST OF REPAYMENT PRACTICES PER ROLE"
   ]
  },
  {
   "cell_type": "code",
   "execution_count": 12,
   "metadata": {},
   "outputs": [],
   "source": [
    "# Filter practices only if debt was paid off\n",
    "dfPractices = df[df['Q26WasDebtPaidOff']=='YES']"
   ]
  },
  {
   "cell_type": "markdown",
   "metadata": {},
   "source": [
    "### ARCHITECT"
   ]
  },
  {
   "cell_type": "code",
   "execution_count": 13,
   "metadata": {},
   "outputs": [],
   "source": [
    "df_CO = dfPractices[dfPractices['Q2Country']=='COLOMBIA']\n",
    "\n",
    "seriesCO = pd.DataFrame(df_CO['FinalRepayCode'].str.split('\\n').tolist()).stack()\n",
    "seriesCO = seriesCO.replace(to_replace = 'EXTRA EFFORT', value = 'REPAYMENT ACTIVITIES') \n",
    "seriesCO.index = seriesCO.index.droplevel(1)"
   ]
  },
  {
   "cell_type": "code",
   "execution_count": 14,
   "metadata": {},
   "outputs": [
    {
     "data": {
      "text/plain": [
       "92"
      ]
     },
     "execution_count": 14,
     "metadata": {},
     "output_type": "execute_result"
    }
   ],
   "source": [
    "seriesCO_ = seriesCO.value_counts()\n",
    "seriesCO_.sum()"
   ]
  },
  {
   "cell_type": "code",
   "execution_count": 15,
   "metadata": {},
   "outputs": [
    {
     "data": {
      "text/plain": [
       "REFACTORING                               22\n",
       "IMPROVE DESIGN                            10\n",
       "REPAYMENT ACTIVITIES                       9\n",
       "BUDGET INCREASE                            6\n",
       "TIME EXTENSION                             6\n",
       "ADOPTION OF GOOD PRACTICES                 5\n",
       "PROJECT SCOPE CHANGE                       4\n",
       "IMPROVE TESTING                            4\n",
       "MANAGEMENT ACTIONS                         4\n",
       "CODE REVIEWING                             4\n",
       "BACKLOG INCLUSION                          2\n",
       "IMPROVE DOCUMENTATION                      2\n",
       "CI/CD                                      2\n",
       "TECHNOLOGY/TOOL/PLATFORM CHANGE            2\n",
       "DEVOPS                                     2\n",
       "EXTERNAL TOOLS                             2\n",
       "PRIORITIZATION                             1\n",
       "ADEQUATE IMPACT AND RISK ANALYSIS          1\n",
       "CONTROL AND MONITORING                     1\n",
       "CHANGE OF PROJECT MANAGEMENT               1\n",
       "IMPROVEMENT IN REQUIREMENT ELICITATION     1\n",
       "TEAM COLLABORATION                         1\n",
       "dtype: int64"
      ]
     },
     "execution_count": 15,
     "metadata": {},
     "output_type": "execute_result"
    }
   ],
   "source": [
    "seriesCO_"
   ]
  },
  {
   "cell_type": "markdown",
   "metadata": {},
   "source": [
    "### TECHNICAL"
   ]
  },
  {
   "cell_type": "code",
   "execution_count": 17,
   "metadata": {},
   "outputs": [],
   "source": [
    "dfTECHNICAL = dfPractices[dfPractices['CodeRole']=='TECHNICAL']\n",
    "\n",
    "seriesTECHNICAL = pd.DataFrame(dfTECHNICAL['FinalRepayCode'].str.split('\\n').tolist()).stack()\n",
    "seriesTECHNICAL = seriesTECHNICAL.replace(to_replace = 'EXTRA EFFORT', value = 'REPAYMENT ACTIVITIES') \n",
    "seriesTECHNICAL.index = seriesTECHNICAL.index.droplevel(1)"
   ]
  },
  {
   "cell_type": "code",
   "execution_count": 18,
   "metadata": {},
   "outputs": [
    {
     "data": {
      "text/plain": [
       "112"
      ]
     },
     "execution_count": 18,
     "metadata": {},
     "output_type": "execute_result"
    }
   ],
   "source": [
    "seriesTECHNICAL_ = seriesTECHNICAL.value_counts()\n",
    "seriesTECHNICAL_.sum()"
   ]
  },
  {
   "cell_type": "code",
   "execution_count": 19,
   "metadata": {},
   "outputs": [
    {
     "data": {
      "text/plain": [
       "REFACTORING                                                                        30\n",
       "REPAYMENT ACTIVITIES                                                               15\n",
       "IMPROVE TESTING                                                                     9\n",
       "IMPROVE DOCUMENTATION                                                               5\n",
       "TIME EXTENSION                                                                      5\n",
       "ADOPTION OF GOOD PRACTICES                                                          4\n",
       "IMPROVE DESIGN                                                                      4\n",
       "MANAGEMENT ACTIONS                                                                  4\n",
       "CI/CD                                                                               3\n",
       "TECHNOLOGY/TOOL/PLATFORM CHANGE                                                     3\n",
       "IMPROVEMENT IN REQUIREMENT ELICITATION                                              3\n",
       "DEVOPS                                                                              2\n",
       "CODE REVIEWING                                                                      2\n",
       "BUDGET INCREASE                                                                     2\n",
       "PRIORITIZATION                                                                      2\n",
       "PROJECT SCOPE CHANGE                                                                2\n",
       "DEFINITION OF SPRINTS FOR THE PAYMENT OF DT                                         2\n",
       "ORGANISATION OF THE PROJECT REPOSITORY                                              1\n",
       "CHANGE OF PROJECT MANAGEMENT                                                        1\n",
       "EXTERNAL TOOLS                                                                      1\n",
       "SWITCHING SOFTWARE SOLUTIONS                                                        1\n",
       "CONTINUOUS IMPROVEMENT OF APPLICATIONS                                              1\n",
       "CONTINUOS LEARNING                                                                  1\n",
       "APPROACHING THE CLIENT WITH THE DEVELOPMENT TEAM                                    1\n",
       "ADEQUATE IMPACT AND RISK ANALYSIS                                                   1\n",
       "USE OF MODELS                                                                       1\n",
       "STARTING THE PROJECT FROM SCRATCH                                                   1\n",
       "IMPLEMENTING PREVENTIVE ACTIONS FOR REDUCTION THE OCCURENCE OF SPECIFIC TD ITEM     1\n",
       "HIRING QUALIFIED PROFESSIONALS                                                      1\n",
       "BACKLOG INCLUSION                                                                   1\n",
       "TEAM COLLABORATION                                                                  1\n",
       "RESTORE LOST DATA FROM BACKUP                                                       1\n",
       "dtype: int64"
      ]
     },
     "execution_count": 19,
     "metadata": {},
     "output_type": "execute_result"
    }
   ],
   "source": [
    "seriesTECHNICAL_"
   ]
  },
  {
   "cell_type": "markdown",
   "metadata": {},
   "source": [
    "### MANAGEMENT"
   ]
  },
  {
   "cell_type": "code",
   "execution_count": 20,
   "metadata": {},
   "outputs": [],
   "source": [
    "dfMANAGEMENT = dfPractices[dfPractices['CodeRole']=='MANAGEMENT']\n",
    "\n",
    "seriesMANAGEMENT = pd.DataFrame(dfMANAGEMENT['FinalRepayCode'].str.split('\\n').tolist()).stack()\n",
    "seriesMANAGEMENT = seriesMANAGEMENT.replace(to_replace = 'EXTRA EFFORT', value = 'REPAYMENT ACTIVITIES') \n",
    "seriesMANAGEMENT.index = seriesMANAGEMENT.index.droplevel(1)"
   ]
  },
  {
   "cell_type": "code",
   "execution_count": 21,
   "metadata": {},
   "outputs": [
    {
     "data": {
      "text/plain": [
       "64"
      ]
     },
     "execution_count": 21,
     "metadata": {},
     "output_type": "execute_result"
    }
   ],
   "source": [
    "seriesMANAGEMENT_ = seriesMANAGEMENT.value_counts()\n",
    "seriesMANAGEMENT_.sum()"
   ]
  },
  {
   "cell_type": "code",
   "execution_count": 22,
   "metadata": {},
   "outputs": [
    {
     "data": {
      "text/plain": [
       "REFACTORING                                         12\n",
       "TIME EXTENSION                                       5\n",
       "IMPROVE DESIGN                                       4\n",
       "REPAYMENT ACTIVITIES                                 4\n",
       "ADOPTION OF GOOD PRACTICES                           4\n",
       "MANAGEMENT ACTIONS                                   3\n",
       "BUDGET INCREASE                                      3\n",
       "IMPROVE DOCUMENTATION                                3\n",
       "WELL-DEFINED PROCESS                                 3\n",
       "PROJECT SCOPE CHANGE                                 3\n",
       "DEFINITION OF SPRINTS FOR THE PAYMENT OF DT          2\n",
       "PRIORITIZATION                                       2\n",
       "IMPROVE TESTING                                      2\n",
       "TECHNOLOGY/TOOL/PLATFORM CHANGE                      2\n",
       "ADEQUATE IMPACT AND RISK ANALYSIS                    1\n",
       "DIVISION OF WORK LOTS                                1\n",
       "CORRECTIVE MAINTENANCE OF ARTIFACTS                  1\n",
       "STARTING THE PROJECT FROM SCRATCH                    1\n",
       "MEASUREMENT BULLETINS                                1\n",
       "APPROACHING THE CLIENT WITH THE DEVELOPMENT TEAM     1\n",
       "CHECKLIST FOR THE VERIFICATION OF BUSINESS RULES     1\n",
       "ARCHITECTURAL CHANGES                                1\n",
       "CONTROL AND MONITORING                               1\n",
       "SOLVING PROBLEMS RELATED TO SECURITY                 1\n",
       "CHANGE OF PROJECT MANAGEMENT                         1\n",
       "SIDE PROJECT                                         1\n",
       "dtype: int64"
      ]
     },
     "execution_count": 22,
     "metadata": {},
     "output_type": "execute_result"
    }
   ],
   "source": [
    "seriesMANAGEMENT_"
   ]
  },
  {
   "cell_type": "markdown",
   "metadata": {},
   "source": [
    "### TO_CSV"
   ]
  },
  {
   "cell_type": "code",
   "execution_count": 23,
   "metadata": {},
   "outputs": [],
   "source": [
    "#seriesMANAGEMENT_.to_csv(index=True)"
   ]
  },
  {
   "cell_type": "code",
   "execution_count": 24,
   "metadata": {},
   "outputs": [],
   "source": [
    "#seriesARCHITECT_.to_csv(index=True)"
   ]
  },
  {
   "cell_type": "code",
   "execution_count": 25,
   "metadata": {},
   "outputs": [],
   "source": [
    "#seriesTECHNICAL_.to_csv(index=True)"
   ]
  }
 ],
 "metadata": {
  "kernelspec": {
   "display_name": "Python 3",
   "language": "python",
   "name": "python3"
  },
  "language_info": {
   "codemirror_mode": {
    "name": "ipython",
    "version": 3
   },
   "file_extension": ".py",
   "mimetype": "text/x-python",
   "name": "python",
   "nbconvert_exporter": "python",
   "pygments_lexer": "ipython3",
   "version": "3.7.4"
  }
 },
 "nbformat": 4,
 "nbformat_minor": 2
}
