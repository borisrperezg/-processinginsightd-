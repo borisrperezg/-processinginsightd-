{
 "cells": [
  {
   "cell_type": "code",
   "execution_count": 1,
   "metadata": {},
   "outputs": [],
   "source": [
    "import pandas as pd\n",
    "import matplotlib.pyplot as plt\n",
    "pd.set_option('display.max_rows', 500)"
   ]
  },
  {
   "cell_type": "code",
   "execution_count": 2,
   "metadata": {},
   "outputs": [],
   "source": [
    "df = pd.read_excel (r'../../../../eclipse-workspace/processinginsightd_datasource/InsighTD-Respuestas(BR-CH-CO-US).xlsx')"
   ]
  },
  {
   "cell_type": "code",
   "execution_count": 3,
   "metadata": {},
   "outputs": [
    {
     "data": {
      "text/plain": [
       "432"
      ]
     },
     "execution_count": 3,
     "metadata": {},
     "output_type": "execute_result"
    }
   ],
   "source": [
    "df.shape[0]"
   ]
  },
  {
   "cell_type": "code",
   "execution_count": 4,
   "metadata": {},
   "outputs": [
    {
     "data": {
      "text/plain": [
       "['1. What is the size of your company?',\n",
       " '2. In which country you are currently working?',\n",
       " '3. What is the size of the system being developed in that project? (LOC)',\n",
       " '4. What is the total number of people of this project?',\n",
       " '5. What is the age of this system up to now or to when your involvement ended?',\n",
       " '6. To which project role are you assigned in this project?',\n",
       " 'CODE Q6',\n",
       " '7. How do you rate your experience in this role (at the time)?',\n",
       " '8. Which of the following most closely describes the development process model you follow on this project?',\n",
       " '13. Please give an example of TD that had a significant impact on the project that you have chosen to tell us about:',\n",
       " 'TD Type',\n",
       " '15. About this example, how representative it is?',\n",
       " 'CODE Q16-18',\n",
       " '24. Once identified, was the debt item monitored?',\n",
       " '25. If yes, how? If not, why? ',\n",
       " 'CODE Q25',\n",
       " '26. Has the debt item been paid off (eliminated) from the project?',\n",
       " '27. If yes, how? If not, why? ',\n",
       " 'CODE Q27',\n",
       " 'NEWREPAYCODE',\n",
       " 'Q28. Considering your personal experience with TD management, what actions have you performed to prevent its occurrence?',\n",
       " 'CODE Q28']"
      ]
     },
     "execution_count": 4,
     "metadata": {},
     "output_type": "execute_result"
    }
   ],
   "source": [
    "list(df.columns) "
   ]
  },
  {
   "cell_type": "code",
   "execution_count": 5,
   "metadata": {},
   "outputs": [],
   "source": [
    "df.rename(columns={ df.columns[0]: \"Q1Size\" }, inplace = True)\n",
    "df.rename(columns={ df.columns[1]: \"Q2Country\" }, inplace = True)\n",
    "df.rename(columns={ df.columns[2]: \"Q3LOC\" }, inplace = True)\n",
    "df.rename(columns={ df.columns[3]: \"Q4NumberPeople\" }, inplace = True)\n",
    "df.rename(columns={ df.columns[4]: \"Q5Age\" }, inplace = True)\n",
    "df.rename(columns={ df.columns[5]: \"Q6Role\" }, inplace = True)\n",
    "df.rename(columns={ df.columns[6]: \"CodeRole\" }, inplace = True)\n",
    "df.rename(columns={ df.columns[7]: \"Q7Experience\" }, inplace = True)\n",
    "df.rename(columns={ df.columns[8]: \"Q8DevProcess\" }, inplace = True)\n",
    "df.rename(columns={ df.columns[9]: \"Q13Example\" }, inplace = True)\n",
    "df.rename(columns={ df.columns[10]: \"ExampleTDType\" }, inplace = True)\n",
    "df.rename(columns={ df.columns[11]: \"Q15ExampleRepresentative\" }, inplace = True)\n",
    "df.rename(columns={ df.columns[12]: \"CodeCauses\" }, inplace = True)\n",
    "df.rename(columns={ df.columns[13]: \"Q24WasDebtMonitored\" }, inplace = True)\n",
    "df.rename(columns={ df.columns[14]: \"Q25HowMonitored\" }, inplace = True)\n",
    "df.rename(columns={ df.columns[15]: \"CodeMonitored\" }, inplace = True)\n",
    "df.rename(columns={ df.columns[16]: \"Q26WasDebtPaidOff\" }, inplace = True)\n",
    "df.rename(columns={ df.columns[17]: \"Q27HowPaidOff\" }, inplace = True)\n",
    "df.rename(columns={ df.columns[18]: \"CodePayOff\" }, inplace = True)\n",
    "df.rename(columns={ df.columns[19]: \"FinalRepayCode\" }, inplace = True)\n",
    "df.rename(columns={ df.columns[20]: \"Q28HowPrevent\" }, inplace = True)\n",
    "df.rename(columns={ df.columns[21]: \"CodePrevent\" }, inplace = True)"
   ]
  },
  {
   "cell_type": "code",
   "execution_count": 6,
   "metadata": {},
   "outputs": [],
   "source": [
    "#list(df.columns) "
   ]
  },
  {
   "cell_type": "markdown",
   "metadata": {},
   "source": [
    "## REPLACING VALUES OF THE ROWS"
   ]
  },
  {
   "cell_type": "code",
   "execution_count": 7,
   "metadata": {},
   "outputs": [],
   "source": [
    "df['Q1Size'].replace(['1-10 empleados', '1-10 funcionários'], '1-10 employees', inplace=True)\n",
    "df['Q1Size'].replace(['11-50 empleados', '11-50 funcionários'], '11-50 employees', inplace=True)\n",
    "df['Q1Size'].replace(['51-250 empleados', '51-250 funcionários'], '51-250 employees', inplace=True)\n",
    "df['Q1Size'].replace(['251-500 empleados', '251-500 funcionários'], '251-500 employees', inplace=True)\n",
    "df['Q1Size'].replace(['501-1000 empleados', '501-1000 funcionários'], '501-1000 employees', inplace=True)\n",
    "df['Q1Size'].replace(['1001-2000 empleados', '1001-2000 funcionários'], '1001-2000 employees', inplace=True)\n",
    "df['Q1Size'].replace(['mas de 2000 empleados', 'mais que 2000 funcionários'], 'more than 2000 employees', inplace=True)"
   ]
  },
  {
   "cell_type": "code",
   "execution_count": 8,
   "metadata": {},
   "outputs": [],
   "source": [
    "df['Q4NumberPeople'].replace(['Menos de 5 personas', 'Menos que 5 pessoas'], 'Less than 5 people', inplace=True)\n",
    "df['Q4NumberPeople'].replace(['5-9 personas', '5-9 pessoas'], '5-9 people', inplace=True)\n",
    "df['Q4NumberPeople'].replace(['10-20 personas', '10-20 pessoas'], '10-20 people', inplace=True)\n",
    "df['Q4NumberPeople'].replace(['21-30 personas', '21-30 pessoas'], '21-30 people', inplace=True)\n",
    "df['Q4NumberPeople'].replace(['Más de 30 personas', 'Mais que 30 pessoas'], 'More than 30 people', inplace=True)"
   ]
  },
  {
   "cell_type": "code",
   "execution_count": 9,
   "metadata": {},
   "outputs": [],
   "source": [
    "df['Q5Age'].replace(['Menos de 1 año', 'Menos que 1 ano'], 'Less than 1 year', inplace=True)\n",
    "df['Q5Age'].replace(['1-2 años', '1-2 anos'], '1-2 years', inplace=True)\n",
    "df['Q5Age'].replace(['2-5 años', '2-5 anos'], '2-5 years', inplace=True)\n",
    "df['Q5Age'].replace(['5-10 años', '5-10 anos'], '5-10 years', inplace=True)\n",
    "df['Q5Age'].replace(['Más de 10 años', 'Mais que 10 anos'], 'More than 10 years', inplace=True)"
   ]
  },
  {
   "cell_type": "code",
   "execution_count": 10,
   "metadata": {},
   "outputs": [],
   "source": [
    "df['Q7Experience'].replace(['Competente (Buen conocimiento laboral y de fondo del área de práctica)', 'Competente'], 'Competent', inplace=True)\n",
    "df['Q7Experience'].replace(['Proficiente (Profundo entendimiento de la disciplina y del área de práctica)', 'Proficiente'], 'Proficient', inplace=True)\n",
    "df['Q7Experience'].replace(['Experto (Conocimiento autoritativo de la disciplina y un entendimiento profundo al rededor del área de práctica)', 'Especialista'], 'Expert', inplace=True)\n",
    "df['Q7Experience'].replace(['Principiante (Conocimiento laboral de los aspectos claves del área de práctica)', 'Iniciante'], 'Beginner', inplace=True)\n",
    "df['Q7Experience'].replace(['Novato (Conocimiento mínimo o teórico sin conectarlo a la práctica)', 'Novato'], 'Novice', inplace=True)"
   ]
  },
  {
   "cell_type": "code",
   "execution_count": 11,
   "metadata": {},
   "outputs": [],
   "source": [
    "df['Q8DevProcess'].replace(['Híbrido (es la combinación de métodos ágiles con otras técnicas no ágiles. Por ejemplo, un esfuerzo para detallar requisitos, seguido de sprints de entrega incremental)', 'Híbrido'], 'Hybrid', inplace=True)\n",
    "df['Q8DevProcess'].replace(['Ágil (un proceso ligero que promueve el desarrollo iterativo, la estrecha colaboración entre el equipo de desarrollo y el negocio, la comunicación constante y los equipos muy cohesionados).', 'Ágil'], 'Agile', inplace=True)\n",
    "df['Q8DevProcess'].replace(['Tradicional (métodos convencionales de desarrollo de software basados en documentos que pueden caracterizarse como planificación extensiva, estandarización de las etapas de desarrollo, comunicación formalizada, documentación significativa y diseño de up-front).', 'Tradicional'], 'Traditional', inplace=True)\n",
    "df['Q8DevProcess'].replace(['', ''], '', inplace=True)"
   ]
  },
  {
   "cell_type": "markdown",
   "metadata": {},
   "source": [
    "## TRANSFORMING EVERYTHING TO UPPERCASE"
   ]
  },
  {
   "cell_type": "code",
   "execution_count": 12,
   "metadata": {},
   "outputs": [],
   "source": [
    "df['CodeCauses'] = df['CodeCauses'].str.strip()\n",
    "df['CodeCauses'] = df['CodeCauses'].str.upper() \n",
    "\n",
    "df['Q1Size'] = df['Q1Size'].str.strip()\n",
    "df['Q1Size'] = df['Q1Size'].str.upper() \n",
    "\n",
    "df['Q2Country'] = df['Q2Country'].str.strip()\n",
    "df['Q2Country'] = df['Q2Country'].str.upper()\n",
    "\n",
    "df['Q4NumberPeople'] = df['Q4NumberPeople'].str.strip()\n",
    "df['Q4NumberPeople'] = df['Q4NumberPeople'].str.upper()\n",
    "\n",
    "df['Q5Age'] = df['Q5Age'].str.strip()\n",
    "df['Q5Age'] = df['Q5Age'].str.upper()\n",
    "\n",
    "df['CodeRole'] = df['CodeRole'].str.strip()\n",
    "df['CodeRole'] = df['CodeRole'].str.upper()\n",
    "\n",
    "df['Q8DevProcess'] = df['Q8DevProcess'].str.strip()\n",
    "df['Q8DevProcess'] = df['Q8DevProcess'].str.upper()"
   ]
  },
  {
   "cell_type": "markdown",
   "metadata": {},
   "source": [
    "## GETTING COUNTS BY BACKGROUND VARIABLE"
   ]
  },
  {
   "cell_type": "code",
   "execution_count": 13,
   "metadata": {},
   "outputs": [],
   "source": [
    "df_BR=df[df['Q2Country']=='BRASIL']\n",
    "df_CH=df[df['Q2Country']=='CHILE']\n",
    "df_CO=df[df['Q2Country']=='COLOMBIA']\n",
    "df_US=df[df['Q2Country']=='UNITED STATES OF AMERICA (USA)']"
   ]
  },
  {
   "cell_type": "markdown",
   "metadata": {},
   "source": [
    "#### Q1. COMPANY SIZE"
   ]
  },
  {
   "cell_type": "code",
   "execution_count": 14,
   "metadata": {
    "scrolled": true
   },
   "outputs": [],
   "source": [
    "dfBR_Q1 = df_BR.Q1Size.value_counts()\n",
    "dfCH_Q1 = df_CH.Q1Size.value_counts()\n",
    "dfCO_Q1 = df_CO.Q1Size.value_counts()\n",
    "dfUS_Q1 = df_US.Q1Size.value_counts()"
   ]
  },
  {
   "cell_type": "code",
   "execution_count": 15,
   "metadata": {},
   "outputs": [],
   "source": [
    "df_Q1Size = pd.concat([dfBR_Q1, dfCH_Q1], axis=1, sort=False)\n",
    "df_Q1Size = pd.concat([df_Q1Size, dfCO_Q1], axis=1, sort=False)\n",
    "df_Q1Size = pd.concat([df_Q1Size, dfUS_Q1], axis=1, sort=False)\n",
    "df_Q1Size.columns = ['BR', 'CH', 'CO', 'US']"
   ]
  },
  {
   "cell_type": "code",
   "execution_count": 16,
   "metadata": {},
   "outputs": [],
   "source": [
    "# Adding a horizontal sum of columns\n",
    "df_Q1Size['Total'] = df_Q1Size.sum(axis=1)"
   ]
  },
  {
   "cell_type": "code",
   "execution_count": 17,
   "metadata": {},
   "outputs": [
    {
     "data": {
      "text/html": [
       "<div>\n",
       "<style scoped>\n",
       "    .dataframe tbody tr th:only-of-type {\n",
       "        vertical-align: middle;\n",
       "    }\n",
       "\n",
       "    .dataframe tbody tr th {\n",
       "        vertical-align: top;\n",
       "    }\n",
       "\n",
       "    .dataframe thead th {\n",
       "        text-align: right;\n",
       "    }\n",
       "</style>\n",
       "<table border=\"1\" class=\"dataframe\">\n",
       "  <thead>\n",
       "    <tr style=\"text-align: right;\">\n",
       "      <th></th>\n",
       "      <th>BR</th>\n",
       "      <th>CH</th>\n",
       "      <th>CO</th>\n",
       "      <th>US</th>\n",
       "      <th>Total</th>\n",
       "    </tr>\n",
       "  </thead>\n",
       "  <tbody>\n",
       "    <tr>\n",
       "      <td>MORE THAN 2000 EMPLOYEES</td>\n",
       "      <td>27</td>\n",
       "      <td>25</td>\n",
       "      <td>26</td>\n",
       "      <td>43</td>\n",
       "      <td>121</td>\n",
       "    </tr>\n",
       "    <tr>\n",
       "      <td>11-50 EMPLOYEES</td>\n",
       "      <td>25</td>\n",
       "      <td>24</td>\n",
       "      <td>28</td>\n",
       "      <td>12</td>\n",
       "      <td>89</td>\n",
       "    </tr>\n",
       "    <tr>\n",
       "      <td>51-250 EMPLOYEES</td>\n",
       "      <td>25</td>\n",
       "      <td>12</td>\n",
       "      <td>26</td>\n",
       "      <td>16</td>\n",
       "      <td>79</td>\n",
       "    </tr>\n",
       "    <tr>\n",
       "      <td>251-500 EMPLOYEES</td>\n",
       "      <td>14</td>\n",
       "      <td>3</td>\n",
       "      <td>26</td>\n",
       "      <td>9</td>\n",
       "      <td>52</td>\n",
       "    </tr>\n",
       "    <tr>\n",
       "      <td>501-1000 EMPLOYEES</td>\n",
       "      <td>10</td>\n",
       "      <td>6</td>\n",
       "      <td>11</td>\n",
       "      <td>7</td>\n",
       "      <td>34</td>\n",
       "    </tr>\n",
       "    <tr>\n",
       "      <td>1-10 EMPLOYEES</td>\n",
       "      <td>4</td>\n",
       "      <td>13</td>\n",
       "      <td>9</td>\n",
       "      <td>8</td>\n",
       "      <td>34</td>\n",
       "    </tr>\n",
       "    <tr>\n",
       "      <td>1001-2000 EMPLOYEES</td>\n",
       "      <td>2</td>\n",
       "      <td>9</td>\n",
       "      <td>8</td>\n",
       "      <td>4</td>\n",
       "      <td>23</td>\n",
       "    </tr>\n",
       "  </tbody>\n",
       "</table>\n",
       "</div>"
      ],
      "text/plain": [
       "                          BR  CH  CO  US  Total\n",
       "MORE THAN 2000 EMPLOYEES  27  25  26  43    121\n",
       "11-50 EMPLOYEES           25  24  28  12     89\n",
       "51-250 EMPLOYEES          25  12  26  16     79\n",
       "251-500 EMPLOYEES         14   3  26   9     52\n",
       "501-1000 EMPLOYEES        10   6  11   7     34\n",
       "1-10 EMPLOYEES             4  13   9   8     34\n",
       "1001-2000 EMPLOYEES        2   9   8   4     23"
      ]
     },
     "execution_count": 17,
     "metadata": {},
     "output_type": "execute_result"
    }
   ],
   "source": [
    "df_Q1Size"
   ]
  },
  {
   "cell_type": "markdown",
   "metadata": {},
   "source": [
    "#### Q4. PEOPLE IN PROJECT"
   ]
  },
  {
   "cell_type": "code",
   "execution_count": 18,
   "metadata": {
    "scrolled": true
   },
   "outputs": [],
   "source": [
    "dfBR_Q4 = df_BR.Q4NumberPeople.value_counts()\n",
    "dfCH_Q4 = df_CH.Q4NumberPeople.value_counts()\n",
    "dfCO_Q4 = df_CO.Q4NumberPeople.value_counts()\n",
    "dfUS_Q4 = df_US.Q4NumberPeople.value_counts()"
   ]
  },
  {
   "cell_type": "code",
   "execution_count": 19,
   "metadata": {},
   "outputs": [],
   "source": [
    "df_Q4NumberPeople = pd.concat([dfBR_Q4, dfCH_Q4], axis=1, sort=False)\n",
    "df_Q4NumberPeople = pd.concat([df_Q4NumberPeople, dfCO_Q4], axis=1, sort=False)\n",
    "df_Q4NumberPeople = pd.concat([df_Q4NumberPeople, dfUS_Q4], axis=1, sort=False)\n",
    "df_Q4NumberPeople.columns = ['BR', 'CH', 'CO', 'US']"
   ]
  },
  {
   "cell_type": "code",
   "execution_count": 20,
   "metadata": {},
   "outputs": [],
   "source": [
    "# Adding a horizontal sum of columns\n",
    "df_Q4NumberPeople['Total'] = df_Q4NumberPeople.sum(axis=1)"
   ]
  },
  {
   "cell_type": "code",
   "execution_count": 21,
   "metadata": {},
   "outputs": [
    {
     "data": {
      "text/html": [
       "<div>\n",
       "<style scoped>\n",
       "    .dataframe tbody tr th:only-of-type {\n",
       "        vertical-align: middle;\n",
       "    }\n",
       "\n",
       "    .dataframe tbody tr th {\n",
       "        vertical-align: top;\n",
       "    }\n",
       "\n",
       "    .dataframe thead th {\n",
       "        text-align: right;\n",
       "    }\n",
       "</style>\n",
       "<table border=\"1\" class=\"dataframe\">\n",
       "  <thead>\n",
       "    <tr style=\"text-align: right;\">\n",
       "      <th></th>\n",
       "      <th>BR</th>\n",
       "      <th>CH</th>\n",
       "      <th>CO</th>\n",
       "      <th>US</th>\n",
       "      <th>Total</th>\n",
       "    </tr>\n",
       "  </thead>\n",
       "  <tbody>\n",
       "    <tr>\n",
       "      <td>10-20 PEOPLE</td>\n",
       "      <td>33</td>\n",
       "      <td>15</td>\n",
       "      <td>34</td>\n",
       "      <td>24</td>\n",
       "      <td>106</td>\n",
       "    </tr>\n",
       "    <tr>\n",
       "      <td>LESS THAN 5 PEOPLE</td>\n",
       "      <td>28</td>\n",
       "      <td>20</td>\n",
       "      <td>15</td>\n",
       "      <td>13</td>\n",
       "      <td>76</td>\n",
       "    </tr>\n",
       "    <tr>\n",
       "      <td>5-9 PEOPLE</td>\n",
       "      <td>27</td>\n",
       "      <td>34</td>\n",
       "      <td>46</td>\n",
       "      <td>27</td>\n",
       "      <td>134</td>\n",
       "    </tr>\n",
       "    <tr>\n",
       "      <td>MORE THAN 30 PEOPLE</td>\n",
       "      <td>17</td>\n",
       "      <td>17</td>\n",
       "      <td>23</td>\n",
       "      <td>24</td>\n",
       "      <td>81</td>\n",
       "    </tr>\n",
       "    <tr>\n",
       "      <td>21-30 PEOPLE</td>\n",
       "      <td>2</td>\n",
       "      <td>6</td>\n",
       "      <td>16</td>\n",
       "      <td>11</td>\n",
       "      <td>35</td>\n",
       "    </tr>\n",
       "  </tbody>\n",
       "</table>\n",
       "</div>"
      ],
      "text/plain": [
       "                     BR  CH  CO  US  Total\n",
       "10-20 PEOPLE         33  15  34  24    106\n",
       "LESS THAN 5 PEOPLE   28  20  15  13     76\n",
       "5-9 PEOPLE           27  34  46  27    134\n",
       "MORE THAN 30 PEOPLE  17  17  23  24     81\n",
       "21-30 PEOPLE          2   6  16  11     35"
      ]
     },
     "execution_count": 21,
     "metadata": {},
     "output_type": "execute_result"
    }
   ],
   "source": [
    "df_Q4NumberPeople"
   ]
  },
  {
   "cell_type": "markdown",
   "metadata": {},
   "source": [
    "#### Q5. SYSTEM AGE"
   ]
  },
  {
   "cell_type": "code",
   "execution_count": 22,
   "metadata": {
    "scrolled": true
   },
   "outputs": [],
   "source": [
    "dfBR_Q5 = df_BR.Q5Age.value_counts()\n",
    "dfCH_Q5 = df_CH.Q5Age.value_counts()\n",
    "dfCO_Q5 = df_CO.Q5Age.value_counts()\n",
    "dfUS_Q5 = df_US.Q5Age.value_counts()"
   ]
  },
  {
   "cell_type": "code",
   "execution_count": 23,
   "metadata": {},
   "outputs": [],
   "source": [
    "df_Q5Age = pd.concat([dfBR_Q5, dfCH_Q5], axis=1, sort=False)\n",
    "df_Q5Age = pd.concat([df_Q5Age, dfCO_Q5], axis=1, sort=False)\n",
    "df_Q5Age = pd.concat([df_Q5Age, dfUS_Q5], axis=1, sort=False)\n",
    "df_Q5Age.columns = ['BR', 'CH', 'CO', 'US']"
   ]
  },
  {
   "cell_type": "code",
   "execution_count": 24,
   "metadata": {},
   "outputs": [],
   "source": [
    "# Adding a horizontal sum of columns\n",
    "df_Q5Age['Total'] = df_Q5Age.sum(axis=1)"
   ]
  },
  {
   "cell_type": "code",
   "execution_count": 25,
   "metadata": {},
   "outputs": [
    {
     "data": {
      "text/html": [
       "<div>\n",
       "<style scoped>\n",
       "    .dataframe tbody tr th:only-of-type {\n",
       "        vertical-align: middle;\n",
       "    }\n",
       "\n",
       "    .dataframe tbody tr th {\n",
       "        vertical-align: top;\n",
       "    }\n",
       "\n",
       "    .dataframe thead th {\n",
       "        text-align: right;\n",
       "    }\n",
       "</style>\n",
       "<table border=\"1\" class=\"dataframe\">\n",
       "  <thead>\n",
       "    <tr style=\"text-align: right;\">\n",
       "      <th></th>\n",
       "      <th>BR</th>\n",
       "      <th>CH</th>\n",
       "      <th>CO</th>\n",
       "      <th>US</th>\n",
       "      <th>Total</th>\n",
       "    </tr>\n",
       "  </thead>\n",
       "  <tbody>\n",
       "    <tr>\n",
       "      <td>2-5 YEARS</td>\n",
       "      <td>32</td>\n",
       "      <td>33</td>\n",
       "      <td>43</td>\n",
       "      <td>42</td>\n",
       "      <td>150</td>\n",
       "    </tr>\n",
       "    <tr>\n",
       "      <td>1-2 YEARS</td>\n",
       "      <td>30</td>\n",
       "      <td>19</td>\n",
       "      <td>31</td>\n",
       "      <td>17</td>\n",
       "      <td>97</td>\n",
       "    </tr>\n",
       "    <tr>\n",
       "      <td>LESS THAN 1 YEAR</td>\n",
       "      <td>21</td>\n",
       "      <td>19</td>\n",
       "      <td>21</td>\n",
       "      <td>9</td>\n",
       "      <td>70</td>\n",
       "    </tr>\n",
       "    <tr>\n",
       "      <td>5-10 YEARS</td>\n",
       "      <td>19</td>\n",
       "      <td>14</td>\n",
       "      <td>22</td>\n",
       "      <td>15</td>\n",
       "      <td>70</td>\n",
       "    </tr>\n",
       "    <tr>\n",
       "      <td>MORE THAN 10 YEARS</td>\n",
       "      <td>5</td>\n",
       "      <td>7</td>\n",
       "      <td>17</td>\n",
       "      <td>16</td>\n",
       "      <td>45</td>\n",
       "    </tr>\n",
       "  </tbody>\n",
       "</table>\n",
       "</div>"
      ],
      "text/plain": [
       "                    BR  CH  CO  US  Total\n",
       "2-5 YEARS           32  33  43  42    150\n",
       "1-2 YEARS           30  19  31  17     97\n",
       "LESS THAN 1 YEAR    21  19  21   9     70\n",
       "5-10 YEARS          19  14  22  15     70\n",
       "MORE THAN 10 YEARS   5   7  17  16     45"
      ]
     },
     "execution_count": 25,
     "metadata": {},
     "output_type": "execute_result"
    }
   ],
   "source": [
    "df_Q5Age"
   ]
  },
  {
   "cell_type": "markdown",
   "metadata": {},
   "source": [
    "#### Q7. EXPERIENCE FROM PRACTITIONERS"
   ]
  },
  {
   "cell_type": "code",
   "execution_count": 26,
   "metadata": {
    "scrolled": true
   },
   "outputs": [],
   "source": [
    "dfBR_Q7 = df_BR.Q7Experience.value_counts()\n",
    "dfCH_Q7 = df_CH.Q7Experience.value_counts()\n",
    "dfCO_Q7 = df_CO.Q7Experience.value_counts()\n",
    "dfUS_Q7 = df_US.Q7Experience.value_counts()"
   ]
  },
  {
   "cell_type": "code",
   "execution_count": 27,
   "metadata": {},
   "outputs": [],
   "source": [
    "df_Q7Experience = pd.concat([dfBR_Q7, dfCH_Q7], axis=1, sort=False)\n",
    "df_Q7Experience = pd.concat([df_Q7Experience, dfCO_Q7], axis=1, sort=False)\n",
    "df_Q7Experience = pd.concat([df_Q7Experience, dfUS_Q7], axis=1, sort=False)\n",
    "df_Q7Experience.columns = ['BR', 'CH', 'CO', 'US']"
   ]
  },
  {
   "cell_type": "code",
   "execution_count": 28,
   "metadata": {},
   "outputs": [],
   "source": [
    "# Adding a horizontal sum of columns\n",
    "df_Q7Experience['Total'] = df_Q7Experience.sum(axis=1)"
   ]
  },
  {
   "cell_type": "code",
   "execution_count": 29,
   "metadata": {},
   "outputs": [
    {
     "data": {
      "text/html": [
       "<div>\n",
       "<style scoped>\n",
       "    .dataframe tbody tr th:only-of-type {\n",
       "        vertical-align: middle;\n",
       "    }\n",
       "\n",
       "    .dataframe tbody tr th {\n",
       "        vertical-align: top;\n",
       "    }\n",
       "\n",
       "    .dataframe thead th {\n",
       "        text-align: right;\n",
       "    }\n",
       "</style>\n",
       "<table border=\"1\" class=\"dataframe\">\n",
       "  <thead>\n",
       "    <tr style=\"text-align: right;\">\n",
       "      <th></th>\n",
       "      <th>BR</th>\n",
       "      <th>CH</th>\n",
       "      <th>CO</th>\n",
       "      <th>US</th>\n",
       "      <th>Total</th>\n",
       "    </tr>\n",
       "  </thead>\n",
       "  <tbody>\n",
       "    <tr>\n",
       "      <td>Proficient</td>\n",
       "      <td>39</td>\n",
       "      <td>23</td>\n",
       "      <td>44</td>\n",
       "      <td>35.0</td>\n",
       "      <td>141.0</td>\n",
       "    </tr>\n",
       "    <tr>\n",
       "      <td>Competent</td>\n",
       "      <td>34</td>\n",
       "      <td>33</td>\n",
       "      <td>47</td>\n",
       "      <td>13.0</td>\n",
       "      <td>127.0</td>\n",
       "    </tr>\n",
       "    <tr>\n",
       "      <td>Expert</td>\n",
       "      <td>21</td>\n",
       "      <td>22</td>\n",
       "      <td>32</td>\n",
       "      <td>39.0</td>\n",
       "      <td>114.0</td>\n",
       "    </tr>\n",
       "    <tr>\n",
       "      <td>Beginner</td>\n",
       "      <td>12</td>\n",
       "      <td>13</td>\n",
       "      <td>10</td>\n",
       "      <td>12.0</td>\n",
       "      <td>47.0</td>\n",
       "    </tr>\n",
       "    <tr>\n",
       "      <td>Novice</td>\n",
       "      <td>1</td>\n",
       "      <td>1</td>\n",
       "      <td>1</td>\n",
       "      <td>NaN</td>\n",
       "      <td>3.0</td>\n",
       "    </tr>\n",
       "  </tbody>\n",
       "</table>\n",
       "</div>"
      ],
      "text/plain": [
       "            BR  CH  CO    US  Total\n",
       "Proficient  39  23  44  35.0  141.0\n",
       "Competent   34  33  47  13.0  127.0\n",
       "Expert      21  22  32  39.0  114.0\n",
       "Beginner    12  13  10  12.0   47.0\n",
       "Novice       1   1   1   NaN    3.0"
      ]
     },
     "execution_count": 29,
     "metadata": {},
     "output_type": "execute_result"
    }
   ],
   "source": [
    "df_Q7Experience"
   ]
  },
  {
   "cell_type": "markdown",
   "metadata": {},
   "source": [
    "#### Q8. DEVELOPMENT PROCESS MODEL"
   ]
  },
  {
   "cell_type": "code",
   "execution_count": 30,
   "metadata": {
    "scrolled": true
   },
   "outputs": [],
   "source": [
    "dfBR_Q8 = df_BR.Q8DevProcess.value_counts()\n",
    "dfCH_Q8 = df_CH.Q8DevProcess.value_counts()\n",
    "dfCO_Q8 = df_CO.Q8DevProcess.value_counts()\n",
    "dfUS_Q8 = df_US.Q8DevProcess.value_counts()"
   ]
  },
  {
   "cell_type": "code",
   "execution_count": 31,
   "metadata": {},
   "outputs": [],
   "source": [
    "df_Q8DevProcess = pd.concat([dfBR_Q8, dfCH_Q8], axis=1, sort=False)\n",
    "df_Q8DevProcess = pd.concat([df_Q8DevProcess, dfCO_Q8], axis=1, sort=False)\n",
    "df_Q8DevProcess = pd.concat([df_Q8DevProcess, dfUS_Q8], axis=1, sort=False)\n",
    "df_Q8DevProcess.columns = ['BR', 'CH', 'CO', 'US']"
   ]
  },
  {
   "cell_type": "code",
   "execution_count": 32,
   "metadata": {},
   "outputs": [],
   "source": [
    "# Adding a horizontal sum of columns\n",
    "df_Q8DevProcess['Total'] = df_Q8DevProcess.sum(axis=1)"
   ]
  },
  {
   "cell_type": "code",
   "execution_count": 33,
   "metadata": {},
   "outputs": [
    {
     "data": {
      "text/html": [
       "<div>\n",
       "<style scoped>\n",
       "    .dataframe tbody tr th:only-of-type {\n",
       "        vertical-align: middle;\n",
       "    }\n",
       "\n",
       "    .dataframe tbody tr th {\n",
       "        vertical-align: top;\n",
       "    }\n",
       "\n",
       "    .dataframe thead th {\n",
       "        text-align: right;\n",
       "    }\n",
       "</style>\n",
       "<table border=\"1\" class=\"dataframe\">\n",
       "  <thead>\n",
       "    <tr style=\"text-align: right;\">\n",
       "      <th></th>\n",
       "      <th>BR</th>\n",
       "      <th>CH</th>\n",
       "      <th>CO</th>\n",
       "      <th>US</th>\n",
       "      <th>Total</th>\n",
       "    </tr>\n",
       "  </thead>\n",
       "  <tbody>\n",
       "    <tr>\n",
       "      <td>AGILE</td>\n",
       "      <td>51</td>\n",
       "      <td>29</td>\n",
       "      <td>49</td>\n",
       "      <td>50</td>\n",
       "      <td>179</td>\n",
       "    </tr>\n",
       "    <tr>\n",
       "      <td>HYBRID</td>\n",
       "      <td>39</td>\n",
       "      <td>44</td>\n",
       "      <td>66</td>\n",
       "      <td>42</td>\n",
       "      <td>191</td>\n",
       "    </tr>\n",
       "    <tr>\n",
       "      <td>TRADITIONAL</td>\n",
       "      <td>17</td>\n",
       "      <td>19</td>\n",
       "      <td>19</td>\n",
       "      <td>7</td>\n",
       "      <td>62</td>\n",
       "    </tr>\n",
       "  </tbody>\n",
       "</table>\n",
       "</div>"
      ],
      "text/plain": [
       "             BR  CH  CO  US  Total\n",
       "AGILE        51  29  49  50    179\n",
       "HYBRID       39  44  66  42    191\n",
       "TRADITIONAL  17  19  19   7     62"
      ]
     },
     "execution_count": 33,
     "metadata": {},
     "output_type": "execute_result"
    }
   ],
   "source": [
    "df_Q8DevProcess"
   ]
  }
 ],
 "metadata": {
  "kernelspec": {
   "display_name": "Python 3",
   "language": "python",
   "name": "python3"
  },
  "language_info": {
   "codemirror_mode": {
    "name": "ipython",
    "version": 3
   },
   "file_extension": ".py",
   "mimetype": "text/x-python",
   "name": "python",
   "nbconvert_exporter": "python",
   "pygments_lexer": "ipython3",
   "version": "3.7.4"
  }
 },
 "nbformat": 4,
 "nbformat_minor": 2
}
