{
 "cells": [
  {
   "cell_type": "code",
   "execution_count": 12,
   "metadata": {},
   "outputs": [],
   "source": [
    "import pandas as pd\n",
    "import matplotlib.pyplot as plt\n",
    "\n",
    "pd.set_option('display.max_rows', 500)"
   ]
  },
  {
   "cell_type": "code",
   "execution_count": 13,
   "metadata": {},
   "outputs": [],
   "source": [
    "df = pd.read_excel (r'../../../../eclipse-workspace/processinginsightd_datasource/InsighTD-Respuestas(BR-CH-CO-US).xlsx')"
   ]
  },
  {
   "cell_type": "code",
   "execution_count": 14,
   "metadata": {},
   "outputs": [
    {
     "data": {
      "text/plain": [
       "432"
      ]
     },
     "execution_count": 14,
     "metadata": {},
     "output_type": "execute_result"
    }
   ],
   "source": [
    "df.shape[0]"
   ]
  },
  {
   "cell_type": "code",
   "execution_count": 15,
   "metadata": {},
   "outputs": [],
   "source": [
    "df.rename(columns={ df.columns[0]: \"Q1Size\" }, inplace = True)\n",
    "df.rename(columns={ df.columns[1]: \"Q2Country\" }, inplace = True)\n",
    "df.rename(columns={ df.columns[2]: \"Q3LOC\" }, inplace = True)\n",
    "df.rename(columns={ df.columns[3]: \"Q4NumberPeople\" }, inplace = True)\n",
    "df.rename(columns={ df.columns[4]: \"Q5Age\" }, inplace = True)\n",
    "df.rename(columns={ df.columns[5]: \"Q6Role\" }, inplace = True)\n",
    "df.rename(columns={ df.columns[6]: \"CodeRole\" }, inplace = True)\n",
    "df.rename(columns={ df.columns[7]: \"Q7Experience\" }, inplace = True)\n",
    "df.rename(columns={ df.columns[8]: \"Q8DevProcess\" }, inplace = True)\n",
    "df.rename(columns={ df.columns[9]: \"Q13Example\" }, inplace = True)\n",
    "df.rename(columns={ df.columns[10]: \"ExampleTDType\" }, inplace = True)\n",
    "df.rename(columns={ df.columns[11]: \"Q15ExampleRepresentative\" }, inplace = True)\n",
    "df.rename(columns={ df.columns[12]: \"CodeCauses\" }, inplace = True)\n",
    "df.rename(columns={ df.columns[13]: \"Q24WasDebtMonitored\" }, inplace = True)\n",
    "df.rename(columns={ df.columns[14]: \"Q25HowMonitored\" }, inplace = True)\n",
    "df.rename(columns={ df.columns[15]: \"CodeMonitored\" }, inplace = True)\n",
    "df.rename(columns={ df.columns[16]: \"Q26WasDebtPaidOff\" }, inplace = True)\n",
    "df.rename(columns={ df.columns[17]: \"Q27HowPaidOff\" }, inplace = True)\n",
    "df.rename(columns={ df.columns[18]: \"CodePayOff\" }, inplace = True)\n",
    "df.rename(columns={ df.columns[19]: \"FinalRepayCode\" }, inplace = True)\n",
    "df.rename(columns={ df.columns[20]: \"Q28HowPrevent\" }, inplace = True)\n",
    "df.rename(columns={ df.columns[21]: \"CodePrevent\" }, inplace = True)"
   ]
  },
  {
   "cell_type": "markdown",
   "metadata": {},
   "source": [
    "## REPLACING VALUES OF THE ROWS"
   ]
  },
  {
   "cell_type": "code",
   "execution_count": 16,
   "metadata": {},
   "outputs": [],
   "source": [
    "df['Q1Size'].replace(['1-10 empleados', '1-10 funcionários'], '1-10 employees', inplace=True)\n",
    "df['Q1Size'].replace(['11-50 empleados', '11-50 funcionários'], '11-50 employees', inplace=True)\n",
    "df['Q1Size'].replace(['51-250 empleados', '51-250 funcionários'], '51-250 employees', inplace=True)\n",
    "df['Q1Size'].replace(['251-500 empleados', '251-500 funcionários'], '251-500 employees', inplace=True)\n",
    "df['Q1Size'].replace(['501-1000 empleados', '501-1000 funcionários'], '501-1000 employees', inplace=True)\n",
    "df['Q1Size'].replace(['1001-2000 empleados', '1001-2000 funcionários'], '1001-2000 employees', inplace=True)\n",
    "df['Q1Size'].replace(['mas de 2000 empleados', 'mais que 2000 funcionários'], 'more than 2000 employees', inplace=True)\n",
    "\n",
    "df['Q4NumberPeople'].replace(['Menos de 5 personas', 'Menos que 5 pessoas'], 'Less than 5 people', inplace=True)\n",
    "df['Q4NumberPeople'].replace(['5-9 personas', '5-9 pessoas'], '5-9 people', inplace=True)\n",
    "df['Q4NumberPeople'].replace(['10-20 personas', '10-20 pessoas'], '10-20 people', inplace=True)\n",
    "df['Q4NumberPeople'].replace(['21-30 personas', '21-30 pessoas'], '21-30 people', inplace=True)\n",
    "df['Q4NumberPeople'].replace(['Más de 30 personas', 'Mais que 30 pessoas'], 'More than 30 people', inplace=True)\n",
    "\n",
    "df['Q5Age'].replace(['Menos de 1 año', 'Menos que 1 ano'], 'Less than 1 year', inplace=True)\n",
    "df['Q5Age'].replace(['1-2 años', '1-2 anos'], '1-2 years', inplace=True)\n",
    "df['Q5Age'].replace(['2-5 años', '2-5 anos'], '2-5 years', inplace=True)\n",
    "df['Q5Age'].replace(['5-10 años', '5-10 anos'], '5-10 years', inplace=True)\n",
    "df['Q5Age'].replace(['Más de 10 años', 'Mais que 10 anos'], 'More than 10 years', inplace=True)\n",
    "\n",
    "df['Q7Experience'].replace(['Competente (Buen conocimiento laboral y de fondo del área de práctica)', 'Competente'], 'Competent', inplace=True)\n",
    "df['Q7Experience'].replace(['Proficiente (Profundo entendimiento de la disciplina y del área de práctica)', 'Proficiente'], 'Proficient', inplace=True)\n",
    "df['Q7Experience'].replace(['Experto (Conocimiento autoritativo de la disciplina y un entendimiento profundo al rededor del área de práctica)', 'Especialista'], 'Expert', inplace=True)\n",
    "df['Q7Experience'].replace(['Principiante (Conocimiento laboral de los aspectos claves del área de práctica)', 'Iniciante'], 'Beginner', inplace=True)\n",
    "df['Q7Experience'].replace(['Novato (Conocimiento mínimo o teórico sin conectarlo a la práctica)', 'Novato'], 'Novice', inplace=True)\n",
    "\n",
    "df['Q8DevProcess'].replace(['Híbrido (es la combinación de métodos ágiles con otras técnicas no ágiles. Por ejemplo, un esfuerzo para detallar requisitos, seguido de sprints de entrega incremental)', 'Híbrido'], 'Hybrid', inplace=True)\n",
    "df['Q8DevProcess'].replace(['Ágil (un proceso ligero que promueve el desarrollo iterativo, la estrecha colaboración entre el equipo de desarrollo y el negocio, la comunicación constante y los equipos muy cohesionados).', 'Ágil'], 'Agile', inplace=True)\n",
    "df['Q8DevProcess'].replace(['Tradicional (métodos convencionales de desarrollo de software basados en documentos que pueden caracterizarse como planificación extensiva, estandarización de las etapas de desarrollo, comunicación formalizada, documentación significativa y diseño de up-front).', 'Tradicional'], 'Traditional', inplace=True)\n",
    "df['Q8DevProcess'].replace(['', ''], '', inplace=True)\n",
    "\n",
    "df['Q3LOC'].replace(['10–100K LDC', '10–100KLOC'], '10 – 100 KLOC', inplace=True)\n",
    "df['Q3LOC'].replace(['100K LDC–1M LDC', '100KLOC–1MLOC', '100KLOC–1MLOC (- 1 milhão de LOC)'], '100 KLOC – 1 MLOC', inplace=True)\n",
    "df['Q3LOC'].replace(['1–10MLOC', '1–10M LDC'], '1 – 10 MLOC', inplace=True)\n",
    "df['Q3LOC'].replace(['menos que 10KLDC (10 mil LOC)', 'menos de 10K LDC', 'less than 10KLOC'], 'Less than 10 KLOC', inplace=True)\n",
    "df['Q3LOC'].replace(['10+ M LDC'], '10+ MLOC', inplace=True)\n",
    "\n",
    "df['Q26WasDebtPaidOff'].replace(['Sí', 'Sim'], 'Yes', inplace=True)"
   ]
  },
  {
   "cell_type": "markdown",
   "metadata": {},
   "source": [
    "## TRANSFORMING EVERYTHING TO UPPERCASE"
   ]
  },
  {
   "cell_type": "code",
   "execution_count": 33,
   "metadata": {},
   "outputs": [],
   "source": [
    "df['CodeCauses'] = df['CodeCauses'].str.strip()\n",
    "df['CodeCauses'] = df['CodeCauses'].str.upper() \n",
    "\n",
    "df['Q1Size'] = df['Q1Size'].str.strip()\n",
    "df['Q1Size'] = df['Q1Size'].str.upper() \n",
    "\n",
    "df['Q2Country'] = df['Q2Country'].str.strip()\n",
    "df['Q2Country'] = df['Q2Country'].str.upper()\n",
    "\n",
    "df['Q3LOC'] = df['Q3LOC'].str.strip()\n",
    "df['Q3LOC'] = df['Q3LOC'].str.upper()\n",
    "\n",
    "df['Q4NumberPeople'] = df['Q4NumberPeople'].str.strip()\n",
    "df['Q4NumberPeople'] = df['Q4NumberPeople'].str.upper()\n",
    "\n",
    "df['Q5Age'] = df['Q5Age'].str.strip()\n",
    "df['Q5Age'] = df['Q5Age'].str.upper()\n",
    "\n",
    "df['CodeRole'] = df['CodeRole'].str.strip()\n",
    "df['CodeRole'] = df['CodeRole'].str.upper()\n",
    "\n",
    "df['ExampleTDType'] = df['ExampleTDType'].str.strip()\n",
    "df['ExampleTDType'] = df['ExampleTDType'].str.upper()\n",
    "\n",
    "df['Q8DevProcess'] = df['Q8DevProcess'].str.strip()\n",
    "df['Q8DevProcess'] = df['Q8DevProcess'].str.upper()\n",
    "\n",
    "df['Q8DevProcess'] = df['Q8DevProcess'].str.strip()\n",
    "df['Q8DevProcess'] = df['Q8DevProcess'].str.upper()\n",
    "\n",
    "df['Q26WasDebtPaidOff'] = df['Q26WasDebtPaidOff'].str.strip()\n",
    "df['Q26WasDebtPaidOff'] = df['Q26WasDebtPaidOff'].str.upper()\n",
    "\n",
    "df['FinalRepayCode'] = df['FinalRepayCode'].str.strip()\n",
    "df['FinalRepayCode'] = df['FinalRepayCode'].str.upper()\n",
    "\n",
    "df = df[df.FinalRepayCode != '-']"
   ]
  },
  {
   "cell_type": "markdown",
   "metadata": {},
   "source": [
    "## FILTER BY TD PAID"
   ]
  },
  {
   "cell_type": "code",
   "execution_count": 34,
   "metadata": {},
   "outputs": [
    {
     "data": {
      "text/plain": [
       "NO     172\n",
       "YES    143\n",
       "Name: Q26WasDebtPaidOff, dtype: int64"
      ]
     },
     "execution_count": 34,
     "metadata": {},
     "output_type": "execute_result"
    }
   ],
   "source": [
    "df.Q26WasDebtPaidOff.value_counts()"
   ]
  },
  {
   "cell_type": "code",
   "execution_count": 35,
   "metadata": {},
   "outputs": [],
   "source": [
    "# Filter practices only if debt was paid off\n",
    "dfTDPaid = df[df['Q26WasDebtPaidOff']=='YES']"
   ]
  },
  {
   "cell_type": "code",
   "execution_count": 44,
   "metadata": {},
   "outputs": [
    {
     "data": {
      "text/plain": [
       "(143, 25)"
      ]
     },
     "execution_count": 44,
     "metadata": {},
     "output_type": "execute_result"
    }
   ],
   "source": [
    "dfTDPaid.shape"
   ]
  },
  {
   "cell_type": "markdown",
   "metadata": {},
   "source": [
    "## PERCENTAGE OF TD PAID BY CRITERION"
   ]
  },
  {
   "cell_type": "code",
   "execution_count": 41,
   "metadata": {},
   "outputs": [
    {
     "data": {
      "text/plain": [
       "10 – 100 KLOC        44.660194\n",
       "100 KLOC – 1 MLOC    36.666667\n",
       "1 – 10 MLOC          50.000000\n",
       "LESS THAN 10 KLOC    48.837209\n",
       "10+ MLOC             65.217391\n",
       "Name: Q3LOC, dtype: float64"
      ]
     },
     "execution_count": 41,
     "metadata": {},
     "output_type": "execute_result"
    }
   ],
   "source": [
    "# Big systems require more work paying their debt\n",
    "dfTDPaid.Q3LOC.value_counts()/df.Q3LOC.value_counts()*100"
   ]
  },
  {
   "cell_type": "code",
   "execution_count": 42,
   "metadata": {},
   "outputs": [
    {
     "data": {
      "text/plain": [
       "1-2 YEARS             36.666667\n",
       "2-5 YEARS             50.434783\n",
       "5-10 YEARS            43.137255\n",
       "LESS THAN 1 YEAR      46.296296\n",
       "MORE THAN 10 YEARS    45.714286\n",
       "Name: Q5Age, dtype: float64"
      ]
     },
     "execution_count": 42,
     "metadata": {},
     "output_type": "execute_result"
    }
   ],
   "source": [
    "# Older systems get less TD paid\n",
    "dfTDPaid.Q5Age.value_counts()/df.Q5Age.value_counts()*100"
   ]
  },
  {
   "cell_type": "code",
   "execution_count": 43,
   "metadata": {},
   "outputs": [
    {
     "data": {
      "text/plain": [
       "DESIGN DEBT             25\n",
       "TEST DEBT               24\n",
       "CODE DEBT               23\n",
       "REQUIREMENT DEBT        15\n",
       "DOCUMENTATION DEBT      10\n",
       "PROJECT DEBT            10\n",
       "ARCHITECTURE DEBT       10\n",
       "INFRASTRUCTURE DEBT      8\n",
       "PROCESS DEBT             5\n",
       "NOT APPLICABLE           3\n",
       "VERSIONING DEBT          2\n",
       "SERVICE DEBT             2\n",
       "DEFECT DEBT              1\n",
       "PEOPLE DEBT              1\n",
       "AUTOMATION TEST DEBT     1\n",
       "Name: ExampleTDType, dtype: int64"
      ]
     },
     "execution_count": 43,
     "metadata": {},
     "output_type": "execute_result"
    }
   ],
   "source": [
    "# Using this list to guide the analysis\n",
    "dfTDPaid.ExampleTDType.value_counts()"
   ]
  },
  {
   "cell_type": "markdown",
   "metadata": {},
   "source": [
    "## LISTING PAYMENT PRACTICES"
   ]
  },
  {
   "cell_type": "code",
   "execution_count": 45,
   "metadata": {},
   "outputs": [],
   "source": [
    "series = pd.DataFrame(dfTDPaid['FinalRepayCode'].str.split('\\n').tolist()).stack()\n",
    "series.index = series.index.droplevel(1)"
   ]
  },
  {
   "cell_type": "code",
   "execution_count": 46,
   "metadata": {},
   "outputs": [
    {
     "data": {
      "text/plain": [
       "226"
      ]
     },
     "execution_count": 46,
     "metadata": {},
     "output_type": "execute_result"
    }
   ],
   "source": [
    "series_ = series.value_counts()\n",
    "series_.sum()"
   ]
  },
  {
   "cell_type": "code",
   "execution_count": 79,
   "metadata": {},
   "outputs": [
    {
     "data": {
      "text/plain": [
       "REFACTORING                                         55\n",
       "IMPROVE TESTING                                     14\n",
       "IMPROVE DESIGN                                      13\n",
       "ADOPTION OF GOOD PRACTICES                          12\n",
       "REPAYMENT ACTIVITIES                                11\n",
       "TIME EXTENSION                                      10\n",
       "EXTRA EFFORT                                        10\n",
       "BUDGET INCREASE                                      8\n",
       "IMPROVE DOCUMENTATION                                8\n",
       "MANAGEMENT ACTIONS                                   7\n",
       "TECHNOLOGY/TOOL/PLATFORM CHANGE                      6\n",
       "PROJECT SCOPE CHANGE                                 5\n",
       "CODE REVIEWING                                       5\n",
       "DEFINITION OF SPRINTS FOR THE PAYMENT OF DT          4\n",
       "IMPROVEMENT IN REQUIREMENT ELICITATION               4\n",
       "PRIORITIZATION                                       4\n",
       "EXTERNAL TOOLS                                       3\n",
       "REWRITING                                            3\n",
       "WELL-DEFINED PROCESS                                 3\n",
       "CI/CD                                                3\n",
       "IMPROVE COMMUNICATION                                2\n",
       "BACKLOG INCLUSION                                    2\n",
       "CONTINUOS LEARNING                                   2\n",
       "ARCHITECTURAL CHANGES                                2\n",
       "HIRING QUALIFIED PROFESSIONALS                       2\n",
       "ADEQUATE IMPACT AND RISK ANALYSIS                    2\n",
       "DEVOPS                                               2\n",
       "APPROACHING THE CLIENT WITH THE DEVELOPMENT TEAM     2\n",
       "CHANGE OF PROJECT MANAGEMENT                         2\n",
       "STARTING THE PROJECT FROM SCRATCH                    2\n",
       "CONTROL AND MONITORING                               2\n",
       "MEASUREMENT BULLETINS                                1\n",
       "SYSTEM RETIREMENT                                    1\n",
       "ORGANISATION OF THE PROJECT REPOSITORY               1\n",
       "TO MAKE DEFECT FREE SYSTEM                           1\n",
       "SIDE PROJECT                                         1\n",
       "SOLVING PROBLEMS RELATED TO SECURITY                 1\n",
       "CORRECTIVE MAINTENANCE OF ARTIFACTS                  1\n",
       "PREVENTIVE ACTIONS                                   1\n",
       "RESTORE LOST DATA FROM BACKUP                        1\n",
       "TEAM COLLABORATION                                   1\n",
       "CONTINUOUS IMPROVEMENT OF APPLICATIONS               1\n",
       "SWITCHING SOFTWARE SOLUTIONS                         1\n",
       "CHECKLIST FOR THE VERIFICATION OF BUSINESS RULES     1\n",
       "DIVISION OF WORK LOTS                                1\n",
       "TECHNOLOGY INDEPENDENT IMPLEMENTATION                1\n",
       "USE OF MODELS                                        1\n",
       "dtype: int64"
      ]
     },
     "execution_count": 79,
     "metadata": {},
     "output_type": "execute_result"
    }
   ],
   "source": [
    "series_"
   ]
  },
  {
   "cell_type": "code",
   "execution_count": 78,
   "metadata": {
    "scrolled": true
   },
   "outputs": [
    {
     "data": {
      "text/plain": [
       "REFACTORING                                         24.336283\n",
       "IMPROVE TESTING                                      6.194690\n",
       "IMPROVE DESIGN                                       5.752212\n",
       "ADOPTION OF GOOD PRACTICES                           5.309735\n",
       "REPAYMENT ACTIVITIES                                 4.867257\n",
       "TIME EXTENSION                                       4.424779\n",
       "EXTRA EFFORT                                         4.424779\n",
       "BUDGET INCREASE                                      3.539823\n",
       "IMPROVE DOCUMENTATION                                3.539823\n",
       "MANAGEMENT ACTIONS                                   3.097345\n",
       "TECHNOLOGY/TOOL/PLATFORM CHANGE                      2.654867\n",
       "PROJECT SCOPE CHANGE                                 2.212389\n",
       "CODE REVIEWING                                       2.212389\n",
       "DEFINITION OF SPRINTS FOR THE PAYMENT OF DT          1.769912\n",
       "IMPROVEMENT IN REQUIREMENT ELICITATION               1.769912\n",
       "PRIORITIZATION                                       1.769912\n",
       "EXTERNAL TOOLS                                       1.327434\n",
       "REWRITING                                            1.327434\n",
       "WELL-DEFINED PROCESS                                 1.327434\n",
       "CI/CD                                                1.327434\n",
       "IMPROVE COMMUNICATION                                0.884956\n",
       "BACKLOG INCLUSION                                    0.884956\n",
       "CONTINUOS LEARNING                                   0.884956\n",
       "ARCHITECTURAL CHANGES                                0.884956\n",
       "HIRING QUALIFIED PROFESSIONALS                       0.884956\n",
       "ADEQUATE IMPACT AND RISK ANALYSIS                    0.884956\n",
       "DEVOPS                                               0.884956\n",
       "APPROACHING THE CLIENT WITH THE DEVELOPMENT TEAM     0.884956\n",
       "CHANGE OF PROJECT MANAGEMENT                         0.884956\n",
       "STARTING THE PROJECT FROM SCRATCH                    0.884956\n",
       "CONTROL AND MONITORING                               0.884956\n",
       "MEASUREMENT BULLETINS                                0.442478\n",
       "SYSTEM RETIREMENT                                    0.442478\n",
       "ORGANISATION OF THE PROJECT REPOSITORY               0.442478\n",
       "TO MAKE DEFECT FREE SYSTEM                           0.442478\n",
       "SIDE PROJECT                                         0.442478\n",
       "SOLVING PROBLEMS RELATED TO SECURITY                 0.442478\n",
       "CORRECTIVE MAINTENANCE OF ARTIFACTS                  0.442478\n",
       "PREVENTIVE ACTIONS                                   0.442478\n",
       "RESTORE LOST DATA FROM BACKUP                        0.442478\n",
       "TEAM COLLABORATION                                   0.442478\n",
       "CONTINUOUS IMPROVEMENT OF APPLICATIONS               0.442478\n",
       "SWITCHING SOFTWARE SOLUTIONS                         0.442478\n",
       "CHECKLIST FOR THE VERIFICATION OF BUSINESS RULES     0.442478\n",
       "DIVISION OF WORK LOTS                                0.442478\n",
       "TECHNOLOGY INDEPENDENT IMPLEMENTATION                0.442478\n",
       "USE OF MODELS                                        0.442478\n",
       "dtype: float64"
      ]
     },
     "execution_count": 78,
     "metadata": {},
     "output_type": "execute_result"
    }
   ],
   "source": [
    "series_/226*100"
   ]
  },
  {
   "cell_type": "markdown",
   "metadata": {},
   "source": [
    "## CALCULATING TD PAYMENT PRACTICES BY CRITERION"
   ]
  },
  {
   "cell_type": "code",
   "execution_count": 48,
   "metadata": {},
   "outputs": [],
   "source": [
    "dfREFACTORING = dfTDPaid[dfTDPaid['FinalRepayCode'].str.contains(\"REFACTORING\")]\n",
    "dfIMPROVETESTING = dfTDPaid[dfTDPaid['FinalRepayCode'].str.contains(\"IMPROVE TESTING\")]\n",
    "dfIMPROVEDESIGN = dfTDPaid[dfTDPaid['FinalRepayCode'].str.contains(\"IMPROVE DESIGN\")]\n",
    "dfADOPTION = dfTDPaid[dfTDPaid['FinalRepayCode'].str.contains(\"ADOPTION OF GOOD PRACTICES\")]\n",
    "dfREPAYMENT = dfTDPaid[dfTDPaid['FinalRepayCode'].str.contains(\"REPAYMENT ACTIVITIES\")]"
   ]
  },
  {
   "cell_type": "markdown",
   "metadata": {},
   "source": [
    "### SYSTEM SIZE"
   ]
  },
  {
   "cell_type": "code",
   "execution_count": 49,
   "metadata": {},
   "outputs": [
    {
     "data": {
      "text/plain": [
       "10 – 100 KLOC        20\n",
       "LESS THAN 10 KLOC    13\n",
       "1 – 10 MLOC           9\n",
       "100 KLOC – 1 MLOC     8\n",
       "10+ MLOC              5\n",
       "Name: Q3LOC, dtype: int64"
      ]
     },
     "execution_count": 49,
     "metadata": {},
     "output_type": "execute_result"
    }
   ],
   "source": [
    "dfREFACTORING.Q3LOC.value_counts()"
   ]
  },
  {
   "cell_type": "code",
   "execution_count": 50,
   "metadata": {},
   "outputs": [
    {
     "data": {
      "text/plain": [
       "10 – 100 KLOC        6\n",
       "100 KLOC – 1 MLOC    4\n",
       "1 – 10 MLOC          3\n",
       "10+ MLOC             1\n",
       "Name: Q3LOC, dtype: int64"
      ]
     },
     "execution_count": 50,
     "metadata": {},
     "output_type": "execute_result"
    }
   ],
   "source": [
    "dfIMPROVETESTING.Q3LOC.value_counts()"
   ]
  },
  {
   "cell_type": "code",
   "execution_count": 51,
   "metadata": {},
   "outputs": [
    {
     "data": {
      "text/plain": [
       "10 – 100 KLOC        7\n",
       "1 – 10 MLOC          3\n",
       "LESS THAN 10 KLOC    2\n",
       "100 KLOC – 1 MLOC    1\n",
       "Name: Q3LOC, dtype: int64"
      ]
     },
     "execution_count": 51,
     "metadata": {},
     "output_type": "execute_result"
    }
   ],
   "source": [
    "dfIMPROVEDESIGN.Q3LOC.value_counts()"
   ]
  },
  {
   "cell_type": "code",
   "execution_count": 52,
   "metadata": {},
   "outputs": [
    {
     "data": {
      "text/plain": [
       "1 – 10 MLOC          6\n",
       "100 KLOC – 1 MLOC    3\n",
       "LESS THAN 10 KLOC    2\n",
       "10 – 100 KLOC        1\n",
       "Name: Q3LOC, dtype: int64"
      ]
     },
     "execution_count": 52,
     "metadata": {},
     "output_type": "execute_result"
    }
   ],
   "source": [
    "dfADOPTION.Q3LOC.value_counts()"
   ]
  },
  {
   "cell_type": "code",
   "execution_count": 53,
   "metadata": {},
   "outputs": [
    {
     "data": {
      "text/plain": [
       "100 KLOC – 1 MLOC    5\n",
       "10 – 100 KLOC        3\n",
       "LESS THAN 10 KLOC    1\n",
       "1 – 10 MLOC          1\n",
       "10+ MLOC             1\n",
       "Name: Q3LOC, dtype: int64"
      ]
     },
     "execution_count": 53,
     "metadata": {},
     "output_type": "execute_result"
    }
   ],
   "source": [
    "dfREPAYMENT.Q3LOC.value_counts()"
   ]
  },
  {
   "cell_type": "code",
   "execution_count": null,
   "metadata": {},
   "outputs": [],
   "source": []
  },
  {
   "cell_type": "markdown",
   "metadata": {},
   "source": [
    "### SYSTEM AGE"
   ]
  },
  {
   "cell_type": "code",
   "execution_count": 54,
   "metadata": {},
   "outputs": [
    {
     "data": {
      "text/plain": [
       "2-5 YEARS             20\n",
       "1-2 YEARS             12\n",
       "LESS THAN 1 YEAR      12\n",
       "5-10 YEARS             6\n",
       "MORE THAN 10 YEARS     5\n",
       "Name: Q5Age, dtype: int64"
      ]
     },
     "execution_count": 54,
     "metadata": {},
     "output_type": "execute_result"
    }
   ],
   "source": [
    "dfREFACTORING.Q5Age.value_counts()"
   ]
  },
  {
   "cell_type": "code",
   "execution_count": 55,
   "metadata": {},
   "outputs": [
    {
     "data": {
      "text/plain": [
       "2-5 YEARS             4\n",
       "5-10 YEARS            4\n",
       "MORE THAN 10 YEARS    3\n",
       "1-2 YEARS             2\n",
       "LESS THAN 1 YEAR      1\n",
       "Name: Q5Age, dtype: int64"
      ]
     },
     "execution_count": 55,
     "metadata": {},
     "output_type": "execute_result"
    }
   ],
   "source": [
    "dfIMPROVETESTING.Q5Age.value_counts()"
   ]
  },
  {
   "cell_type": "code",
   "execution_count": 56,
   "metadata": {},
   "outputs": [
    {
     "data": {
      "text/plain": [
       "2-5 YEARS             4\n",
       "MORE THAN 10 YEARS    3\n",
       "1-2 YEARS             2\n",
       "5-10 YEARS            2\n",
       "LESS THAN 1 YEAR      2\n",
       "Name: Q5Age, dtype: int64"
      ]
     },
     "execution_count": 56,
     "metadata": {},
     "output_type": "execute_result"
    }
   ],
   "source": [
    "dfIMPROVEDESIGN.Q5Age.value_counts()"
   ]
  },
  {
   "cell_type": "code",
   "execution_count": 57,
   "metadata": {},
   "outputs": [
    {
     "data": {
      "text/plain": [
       "2-5 YEARS             5\n",
       "MORE THAN 10 YEARS    3\n",
       "1-2 YEARS             2\n",
       "5-10 YEARS            1\n",
       "LESS THAN 1 YEAR      1\n",
       "Name: Q5Age, dtype: int64"
      ]
     },
     "execution_count": 57,
     "metadata": {},
     "output_type": "execute_result"
    }
   ],
   "source": [
    "dfADOPTION.Q5Age.value_counts()"
   ]
  },
  {
   "cell_type": "code",
   "execution_count": 58,
   "metadata": {},
   "outputs": [
    {
     "data": {
      "text/plain": [
       "2-5 YEARS             5\n",
       "MORE THAN 10 YEARS    3\n",
       "5-10 YEARS            3\n",
       "Name: Q5Age, dtype: int64"
      ]
     },
     "execution_count": 58,
     "metadata": {},
     "output_type": "execute_result"
    }
   ],
   "source": [
    "dfREPAYMENT.Q5Age.value_counts()"
   ]
  },
  {
   "cell_type": "code",
   "execution_count": null,
   "metadata": {},
   "outputs": [],
   "source": []
  },
  {
   "cell_type": "markdown",
   "metadata": {},
   "source": [
    "### TD TYPES"
   ]
  },
  {
   "cell_type": "code",
   "execution_count": 59,
   "metadata": {},
   "outputs": [
    {
     "data": {
      "text/plain": [
       "CODE DEBT              15\n",
       "DESIGN DEBT            15\n",
       "PROJECT DEBT            6\n",
       "TEST DEBT               5\n",
       "REQUIREMENT DEBT        5\n",
       "INFRASTRUCTURE DEBT     4\n",
       "ARCHITECTURE DEBT       3\n",
       "DEFECT DEBT             1\n",
       "NOT APPLICABLE          1\n",
       "Name: ExampleTDType, dtype: int64"
      ]
     },
     "execution_count": 59,
     "metadata": {},
     "output_type": "execute_result"
    }
   ],
   "source": [
    "dfREFACTORING.ExampleTDType.value_counts()"
   ]
  },
  {
   "cell_type": "code",
   "execution_count": 60,
   "metadata": {},
   "outputs": [
    {
     "data": {
      "text/plain": [
       "TEST DEBT               8\n",
       "DESIGN DEBT             2\n",
       "INFRASTRUCTURE DEBT     1\n",
       "PROJECT DEBT            1\n",
       "AUTOMATION TEST DEBT    1\n",
       "CODE DEBT               1\n",
       "Name: ExampleTDType, dtype: int64"
      ]
     },
     "execution_count": 60,
     "metadata": {},
     "output_type": "execute_result"
    }
   ],
   "source": [
    "dfIMPROVETESTING.ExampleTDType.value_counts()"
   ]
  },
  {
   "cell_type": "code",
   "execution_count": 61,
   "metadata": {},
   "outputs": [
    {
     "data": {
      "text/plain": [
       "DESIGN DEBT            5\n",
       "CODE DEBT              3\n",
       "INFRASTRUCTURE DEBT    2\n",
       "REQUIREMENT DEBT       2\n",
       "TEST DEBT              1\n",
       "Name: ExampleTDType, dtype: int64"
      ]
     },
     "execution_count": 61,
     "metadata": {},
     "output_type": "execute_result"
    }
   ],
   "source": [
    "dfIMPROVEDESIGN.ExampleTDType.value_counts()"
   ]
  },
  {
   "cell_type": "code",
   "execution_count": 62,
   "metadata": {},
   "outputs": [
    {
     "data": {
      "text/plain": [
       "DESIGN DEBT            4\n",
       "INFRASTRUCTURE DEBT    2\n",
       "CODE DEBT              1\n",
       "TEST DEBT              1\n",
       "PROJECT DEBT           1\n",
       "SERVICE DEBT           1\n",
       "PROCESS DEBT           1\n",
       "ARCHITECTURE DEBT      1\n",
       "Name: ExampleTDType, dtype: int64"
      ]
     },
     "execution_count": 62,
     "metadata": {},
     "output_type": "execute_result"
    }
   ],
   "source": [
    "dfADOPTION.ExampleTDType.value_counts()"
   ]
  },
  {
   "cell_type": "code",
   "execution_count": 63,
   "metadata": {},
   "outputs": [
    {
     "data": {
      "text/plain": [
       "DESIGN DEBT            3\n",
       "TEST DEBT              3\n",
       "CODE DEBT              2\n",
       "INFRASTRUCTURE DEBT    1\n",
       "DOCUMENTATION DEBT     1\n",
       "Name: ExampleTDType, dtype: int64"
      ]
     },
     "execution_count": 63,
     "metadata": {},
     "output_type": "execute_result"
    }
   ],
   "source": [
    "dfREPAYMENT.ExampleTDType.value_counts()"
   ]
  },
  {
   "cell_type": "code",
   "execution_count": null,
   "metadata": {},
   "outputs": [],
   "source": []
  },
  {
   "cell_type": "markdown",
   "metadata": {},
   "source": [
    "## TD PAYMENT PRACTICE BY TD TYPES"
   ]
  },
  {
   "cell_type": "code",
   "execution_count": 64,
   "metadata": {},
   "outputs": [],
   "source": [
    "# DESIGN DEBT             25\n",
    "dfTDPaidDD = dfTDPaid[dfTDPaid['ExampleTDType']=='DESIGN DEBT']"
   ]
  },
  {
   "cell_type": "code",
   "execution_count": 67,
   "metadata": {},
   "outputs": [],
   "source": [
    "seriesTDPaidDD = pd.DataFrame(dfTDPaidDD['FinalRepayCode'].str.split('\\n').tolist()).stack()\n",
    "seriesTDPaidDD.index = seriesTDPaidDD.index.droplevel(1)"
   ]
  },
  {
   "cell_type": "code",
   "execution_count": 68,
   "metadata": {},
   "outputs": [
    {
     "data": {
      "text/plain": [
       "47"
      ]
     },
     "execution_count": 68,
     "metadata": {},
     "output_type": "execute_result"
    }
   ],
   "source": [
    "seriesTDPaidDD = seriesTDPaidDD.value_counts()\n",
    "seriesTDPaidDD.sum()"
   ]
  },
  {
   "cell_type": "code",
   "execution_count": 69,
   "metadata": {},
   "outputs": [
    {
     "data": {
      "text/plain": [
       "REFACTORING                               15\n",
       "IMPROVE DESIGN                             5\n",
       "ADOPTION OF GOOD PRACTICES                 4\n",
       "REPAYMENT ACTIVITIES                       3\n",
       "EXTRA EFFORT                               2\n",
       "TIME EXTENSION                             2\n",
       "IMPROVE TESTING                            2\n",
       "MANAGEMENT ACTIONS                         2\n",
       "IMPROVE DOCUMENTATION                      1\n",
       "PRIORITIZATION                             1\n",
       "TECHNOLOGY INDEPENDENT IMPLEMENTATION      1\n",
       "IMPROVEMENT IN REQUIREMENT ELICITATION     1\n",
       "DEVOPS                                     1\n",
       "TEAM COLLABORATION                         1\n",
       "BUDGET INCREASE                            1\n",
       "CI/CD                                      1\n",
       "BACKLOG INCLUSION                          1\n",
       "CODE REVIEWING                             1\n",
       "PREVENTIVE ACTIONS                         1\n",
       "SIDE PROJECT                               1\n",
       "dtype: int64"
      ]
     },
     "execution_count": 69,
     "metadata": {},
     "output_type": "execute_result"
    }
   ],
   "source": [
    "seriesTDPaidDD"
   ]
  },
  {
   "cell_type": "code",
   "execution_count": 70,
   "metadata": {},
   "outputs": [],
   "source": [
    "# TEST DEBT               24\n",
    "# CODE DEBT               23\n",
    "dfTDPaidTD = dfTDPaid[dfTDPaid['ExampleTDType']=='TEST DEBT']"
   ]
  },
  {
   "cell_type": "code",
   "execution_count": 71,
   "metadata": {},
   "outputs": [],
   "source": [
    "seriesTDPaidTD = pd.DataFrame(dfTDPaidTD['FinalRepayCode'].str.split('\\n').tolist()).stack()\n",
    "seriesTDPaidTD.index = seriesTDPaidTD.index.droplevel(1)"
   ]
  },
  {
   "cell_type": "code",
   "execution_count": 72,
   "metadata": {},
   "outputs": [
    {
     "data": {
      "text/plain": [
       "34"
      ]
     },
     "execution_count": 72,
     "metadata": {},
     "output_type": "execute_result"
    }
   ],
   "source": [
    "seriesTDPaidTD = seriesTDPaidTD.value_counts()\n",
    "seriesTDPaidTD.sum()"
   ]
  },
  {
   "cell_type": "code",
   "execution_count": 73,
   "metadata": {},
   "outputs": [
    {
     "data": {
      "text/plain": [
       "IMPROVE TESTING                    8\n",
       "REFACTORING                        5\n",
       "TIME EXTENSION                     4\n",
       "BUDGET INCREASE                    3\n",
       "REPAYMENT ACTIVITIES               3\n",
       "PROJECT SCOPE CHANGE               2\n",
       "ADOPTION OF GOOD PRACTICES         1\n",
       "REWRITING                          1\n",
       "RESTORE LOST DATA FROM BACKUP      1\n",
       "BACKLOG INCLUSION                  1\n",
       "CI/CD                              1\n",
       "TO MAKE DEFECT FREE SYSTEM         1\n",
       "MANAGEMENT ACTIONS                 1\n",
       "IMPROVE DESIGN                     1\n",
       "TECHNOLOGY/TOOL/PLATFORM CHANGE    1\n",
       "dtype: int64"
      ]
     },
     "execution_count": 73,
     "metadata": {},
     "output_type": "execute_result"
    }
   ],
   "source": [
    "seriesTDPaidTD"
   ]
  },
  {
   "cell_type": "code",
   "execution_count": 74,
   "metadata": {},
   "outputs": [],
   "source": [
    "# CODE DEBT               23\n",
    "dfTDPaidCD = dfTDPaid[dfTDPaid['ExampleTDType']=='CODE DEBT']"
   ]
  },
  {
   "cell_type": "code",
   "execution_count": 75,
   "metadata": {},
   "outputs": [],
   "source": [
    "seriesTDPaidCD = pd.DataFrame(dfTDPaidCD['FinalRepayCode'].str.split('\\n').tolist()).stack()\n",
    "seriesTDPaidCD.index = seriesTDPaidCD.index.droplevel(1)"
   ]
  },
  {
   "cell_type": "code",
   "execution_count": 76,
   "metadata": {},
   "outputs": [
    {
     "data": {
      "text/plain": [
       "38"
      ]
     },
     "execution_count": 76,
     "metadata": {},
     "output_type": "execute_result"
    }
   ],
   "source": [
    "seriesTDPaidCD = seriesTDPaidCD.value_counts()\n",
    "seriesTDPaidCD.sum()"
   ]
  },
  {
   "cell_type": "code",
   "execution_count": 77,
   "metadata": {},
   "outputs": [
    {
     "data": {
      "text/plain": [
       "REFACTORING                                    15\n",
       "CODE REVIEWING                                  4\n",
       "DEFINITION OF SPRINTS FOR THE PAYMENT OF DT     3\n",
       "IMPROVE DESIGN                                  3\n",
       "EXTERNAL TOOLS                                  3\n",
       "REPAYMENT ACTIVITIES                            2\n",
       "EXTRA EFFORT                                    2\n",
       "IMPROVE DOCUMENTATION                           1\n",
       "PRIORITIZATION                                  1\n",
       "TIME EXTENSION                                  1\n",
       "IMPROVE TESTING                                 1\n",
       "ADOPTION OF GOOD PRACTICES                      1\n",
       "BUDGET INCREASE                                 1\n",
       "dtype: int64"
      ]
     },
     "execution_count": 77,
     "metadata": {},
     "output_type": "execute_result"
    }
   ],
   "source": [
    "seriesTDPaidCD"
   ]
  },
  {
   "cell_type": "code",
   "execution_count": null,
   "metadata": {},
   "outputs": [],
   "source": []
  }
 ],
 "metadata": {
  "kernelspec": {
   "display_name": "Python 3",
   "language": "python",
   "name": "python3"
  },
  "language_info": {
   "codemirror_mode": {
    "name": "ipython",
    "version": 3
   },
   "file_extension": ".py",
   "mimetype": "text/x-python",
   "name": "python",
   "nbconvert_exporter": "python",
   "pygments_lexer": "ipython3",
   "version": "3.7.4"
  }
 },
 "nbformat": 4,
 "nbformat_minor": 2
}
